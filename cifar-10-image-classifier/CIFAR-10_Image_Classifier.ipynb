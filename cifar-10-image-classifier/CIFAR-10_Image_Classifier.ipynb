{
 "cells": [
  {
   "cell_type": "markdown",
   "metadata": {},
   "source": [
    "# Introduction\n",
    "\n",
    "In this project, you will build a neural network of your own design to evaluate the CIFAR-10 dataset.\n",
    "Our target accuracy is 70%, but any accuracy over 50% is a great start.\n",
    "Some of the benchmark results on CIFAR-10 include:\n",
    "\n",
    "78.9% Accuracy | [Deep Belief Networks; Krizhevsky, 2010](https://www.cs.toronto.edu/~kriz/conv-cifar10-aug2010.pdf)\n",
    "\n",
    "90.6% Accuracy | [Maxout Networks; Goodfellow et al., 2013](https://arxiv.org/pdf/1302.4389.pdf)\n",
    "\n",
    "96.0% Accuracy | [Wide Residual Networks; Zagoruyko et al., 2016](https://arxiv.org/pdf/1605.07146.pdf)\n",
    "\n",
    "99.0% Accuracy | [GPipe; Huang et al., 2018](https://arxiv.org/pdf/1811.06965.pdf)\n",
    "\n",
    "98.5% Accuracy | [Rethinking Recurrent Neural Networks and other Improvements for ImageClassification; Nguyen et al., 2020](https://arxiv.org/pdf/2007.15161.pdf)\n",
    "\n",
    "Research with this dataset is ongoing. Notably, many of these networks are quite large and quite expensive to train. \n",
    "\n",
    "## Imports"
   ]
  },
  {
   "cell_type": "code",
   "execution_count": 1,
   "metadata": {},
   "outputs": [],
   "source": [
    "## This cell contains the essential imports you will need – DO NOT CHANGE THE CONTENTS! ##\n",
    "import torch\n",
    "import torch.nn as nn\n",
    "import torch.nn.functional as F\n",
    "import torch.optim as optim\n",
    "import torchvision\n",
    "import torchvision.transforms as transforms\n",
    "import matplotlib.pyplot as plt\n",
    "import numpy as np"
   ]
  },
  {
   "cell_type": "markdown",
   "metadata": {},
   "source": [
    "## Load the Dataset\n",
    "\n",
    "Specify your transforms as a list first.\n",
    "The transforms module is already loaded as `transforms`.\n",
    "\n",
    "CIFAR-10 is fortunately included in the torchvision module.\n",
    "Then, you can create your dataset using the `CIFAR10` object from `torchvision.datasets` ([the documentation is available here](https://pytorch.org/docs/stable/torchvision/datasets.html#cifar)).\n",
    "Make sure to specify `download=True`! \n",
    "\n",
    "Once your dataset is created, you'll also need to define a `DataLoader` from the `torch.utils.data` module for both the train and the test set."
   ]
  },
  {
   "cell_type": "markdown",
   "metadata": {},
   "source": [
    "## Explore the Dataset\n",
    "Using matplotlib, numpy, and torch, explore the dimensions of your data.\n",
    "\n",
    "You can view images using the `show5` function defined below – it takes a data loader as an argument.\n",
    "Remember that normalized images will look really weird to you! You may want to try changing your transforms to view images.\n",
    "Typically using no transforms other than `toTensor()` works well for viewing – but not as well for training your network.\n",
    "If `show5` doesn't work, go back and check your code for creating your data loaders and your training/test sets."
   ]
  },
  {
   "cell_type": "code",
   "execution_count": 2,
   "metadata": {},
   "outputs": [],
   "source": [
    "def show5(img_loader):\n",
    "    dataiter = iter(img_loader)\n",
    "    \n",
    "    batch = next(dataiter)\n",
    "    labels = batch[1][0:5]\n",
    "    images = batch[0][0:5]\n",
    "    for i in range(5):\n",
    "        print(classes[labels[i]])\n",
    "    \n",
    "        image = images[i].numpy()\n",
    "        plt.imshow(image.T)\n",
    "        plt.show()"
   ]
  },
  {
   "cell_type": "code",
   "execution_count": 3,
   "metadata": {},
   "outputs": [
    {
     "name": "stdout",
     "output_type": "stream",
     "text": [
      "Files already downloaded and verified\n",
      "Files already downloaded and verified\n"
     ]
    }
   ],
   "source": [
    "# Set batch size\n",
    "batch_size = 16\n",
    "\n",
    "# Define transforms\n",
    "data_transforms = {\n",
    "        'train': transforms.Compose([transforms.RandomRotation(30),\n",
    "                                     transforms.RandomHorizontalFlip(),\n",
    "                                     transforms.ToTensor(),\n",
    "                                     transforms.Normalize((0.5, 0.5, 0.5), (0.5, 0.5, 0.5))]),\n",
    "        'test': transforms.Compose(\n",
    "                            [transforms.ToTensor(),\n",
    "                             transforms.Normalize((0.5, 0.5, 0.5), (0.5, 0.5, 0.5))]),\n",
    "    }\n",
    "\n",
    "trainset = torchvision.datasets.CIFAR10(root='./data', train=True,\n",
    "                                        download=True, transform=data_transforms['train'])\n",
    "testset = torchvision.datasets.CIFAR10(root='./data', train=False,\n",
    "                                       download=True, transform=data_transforms['test'])\n",
    "\n",
    "dataloaders = {\n",
    "        'train': torch.utils.data.DataLoader(trainset, batch_size=batch_size,\n",
    "                                          shuffle=True, num_workers=2),\n",
    "        'test': torch.utils.data.DataLoader(testset, batch_size=batch_size,\n",
    "                                         shuffle=False, num_workers=2),\n",
    "    }\n",
    "\n",
    "\n",
    "# The 10 classes in the dataset\n",
    "classes = ('plane', 'car', 'bird', 'cat', 'deer', 'dog', 'frog', 'horse', 'ship', 'truck')"
   ]
  },
  {
   "cell_type": "code",
   "execution_count": 4,
   "metadata": {},
   "outputs": [
    {
     "name": "stderr",
     "output_type": "stream",
     "text": [
      "Clipping input data to the valid range for imshow with RGB data ([0..1] for floats or [0..255] for integers).\n"
     ]
    },
    {
     "name": "stdout",
     "output_type": "stream",
     "text": [
      "cat\n"
     ]
    },
    {
     "data": {
      "image/png": "[encoded data removed]",
      "text/plain": [
       "<Figure size 432x288 with 1 Axes>"
      ]
     },
     "metadata": {
      "needs_background": "light"
     },
     "output_type": "display_data"
    },
    {
     "name": "stderr",
     "output_type": "stream",
     "text": [
      "Clipping input data to the valid range for imshow with RGB data ([0..1] for floats or [0..255] for integers).\n"
     ]
    },
    {
     "name": "stdout",
     "output_type": "stream",
     "text": [
      "ship\n"
     ]
    },
    {
     "data": {
      "image/png": "[encoded data removed]",
      "text/plain": [
       "<Figure size 432x288 with 1 Axes>"
      ]
     },
     "metadata": {
      "needs_background": "light"
     },
     "output_type": "display_data"
    },
    {
     "name": "stderr",
     "output_type": "stream",
     "text": [
      "Clipping input data to the valid range for imshow with RGB data ([0..1] for floats or [0..255] for integers).\n"
     ]
    },
    {
     "name": "stdout",
     "output_type": "stream",
     "text": [
      "ship\n"
     ]
    },
    {
     "data": {
      "image/png": "[encoded data removed]",
      "text/plain": [
       "<Figure size 432x288 with 1 Axes>"
      ]
     },
     "metadata": {
      "needs_background": "light"
     },
     "output_type": "display_data"
    },
    {
     "name": "stderr",
     "output_type": "stream",
     "text": [
      "Clipping input data to the valid range for imshow with RGB data ([0..1] for floats or [0..255] for integers).\n"
     ]
    },
    {
     "name": "stdout",
     "output_type": "stream",
     "text": [
      "plane\n"
     ]
    },
    {
     "data": {
      "image/png": "[encoded data removed]",
      "text/plain": [
       "<Figure size 432x288 with 1 Axes>"
      ]
     },
     "metadata": {
      "needs_background": "light"
     },
     "output_type": "display_data"
    },
    {
     "name": "stderr",
     "output_type": "stream",
     "text": [
      "Clipping input data to the valid range for imshow with RGB data ([0..1] for floats or [0..255] for integers).\n"
     ]
    },
    {
     "name": "stdout",
     "output_type": "stream",
     "text": [
      "frog\n"
     ]
    },
    {
     "data": {
      "image/png": "[encoded data removed]",
      "text/plain": [
       "<Figure size 432x288 with 1 Axes>"
      ]
     },
     "metadata": {
      "needs_background": "light"
     },
     "output_type": "display_data"
    }
   ],
   "source": [
    "# Explore data\n",
    "show5(dataloaders['test'])"
   ]
  },
  {
   "cell_type": "markdown",
   "metadata": {},
   "source": [
    "## Build your Neural Network\n",
    "Using the layers in `torch.nn` (which has been imported as `nn`) and the `torch.nn.functional` module (imported as `F`), construct a neural network based on the parameters of the dataset. \n",
    "Feel free to construct a model of any architecture – feedforward, convolutional, or even something more advanced!"
   ]
  },
  {
   "cell_type": "code",
   "execution_count": 10,
   "metadata": {},
   "outputs": [],
   "source": [
    "class NeuralNetwork(nn.Module):\n",
    "    def __init__(self):\n",
    "        super().__init__()\n",
    "        self.pool = nn.MaxPool2d(2, 2)\n",
    "        self.dropout = nn.Dropout(0.25)\n",
    "        \n",
    "        self.conv1 = nn.Conv2d(3, 6, 5)\n",
    "        self.conv1_b = nn.Conv2d(6, 12, 5)\n",
    "        \n",
    "        self.conv2 = nn.Conv2d(12, 32, 5)\n",
    "        \n",
    "        self.fc1 = nn.Linear(512, 256)\n",
    "        self.fc2 = nn.Linear(256, 128)\n",
    "        self.fc3 = nn.Linear(128, 64)\n",
    "        self.fc4 = nn.Linear(64, 10)\n",
    "\n",
    "    def forward(self, x):\n",
    "        x = F.relu(self.conv1(x))\n",
    "        x = F.relu(self.conv1_b(x))\n",
    "        x = self.pool(x)\n",
    "        \n",
    "        x = F.relu(self.conv2(x))\n",
    "        x = self.pool(x)\n",
    "        x = self.dropout(x)\n",
    "        \n",
    "        x = torch.flatten(x, 1)\n",
    "        \n",
    "        x = F.relu(self.fc1(x))\n",
    "        x = self.dropout(x)\n",
    "        x = F.relu(self.fc2(x))\n",
    "        x = F.relu(self.fc3(x))\n",
    "        x = F.log_softmax(self.fc4(x), dim=1)\n",
    "        return x"
   ]
  },
  {
   "cell_type": "markdown",
   "metadata": {},
   "source": [
    "Specify a loss function and an optimizer, and instantiate the model.\n",
    "\n",
    "If you use a less common loss function, please note why you chose that loss function in a comment."
   ]
  },
  {
   "cell_type": "code",
   "execution_count": 12,
   "metadata": {},
   "outputs": [],
   "source": [
    "model = NeuralNetwork()\n",
    "criterion = nn.CrossEntropyLoss()\n",
    "optimizer = optim.SGD(model.parameters(), lr=0.0008, momentum=0.8)"
   ]
  },
  {
   "cell_type": "markdown",
   "metadata": {},
   "source": [
    "## Running your Neural Network\n",
    "Use whatever method you like to train your neural network, and ensure you record the average loss at each epoch. \n",
    "Don't forget to use `torch.device()` and the `.to()` method for both your model and your data if you are using GPU!\n",
    "\n",
    "If you want to print your loss during each epoch, you can use the `enumerate` function and print the loss after a set number of batches. 250 batches works well for most people!"
   ]
  },
  {
   "cell_type": "code",
   "execution_count": 15,
   "metadata": {},
   "outputs": [
    {
     "name": "stdout",
     "output_type": "stream",
     "text": [
      "Epoch: 1/100..  Training Loss: 2.106..  Test Loss: 2.061.. \n",
      "Epoch: 2/100..  Training Loss: 2.025..  Test Loss: 1.955.. \n",
      "Epoch: 3/100..  Training Loss: 1.924..  Test Loss: 1.845.. \n",
      "Epoch: 4/100..  Training Loss: 1.802..  Test Loss: 1.720.. \n",
      "Epoch: 5/100..  Training Loss: 1.719..  Test Loss: 1.639.. \n",
      "Epoch: 6/100..  Training Loss: 1.663..  Test Loss: 1.579.. \n",
      "Epoch: 7/100..  Training Loss: 1.620..  Test Loss: 1.534.. \n",
      "Epoch: 8/100..  Training Loss: 1.578..  Test Loss: 1.487.. \n",
      "Epoch: 9/100..  Training Loss: 1.539..  Test Loss: 1.460.. \n",
      "Epoch: 10/100..  Training Loss: 1.503..  Test Loss: 1.442.. \n",
      "Epoch: 11/100..  Training Loss: 1.465..  Test Loss: 1.406.. \n",
      "Epoch: 12/100..  Training Loss: 1.437..  Test Loss: 1.392.. \n",
      "Epoch: 13/100..  Training Loss: 1.406..  Test Loss: 1.330.. \n",
      "Epoch: 14/100..  Training Loss: 1.388..  Test Loss: 1.322.. \n",
      "Epoch: 15/100..  Training Loss: 1.366..  Test Loss: 1.295.. \n",
      "Epoch: 16/100..  Training Loss: 1.344..  Test Loss: 1.271.. \n",
      "Epoch: 17/100..  Training Loss: 1.328..  Test Loss: 1.258.. \n",
      "Epoch: 18/100..  Training Loss: 1.315..  Test Loss: 1.231.. \n",
      "Epoch: 19/100..  Training Loss: 1.294..  Test Loss: 1.240.. \n",
      "Epoch: 20/100..  Training Loss: 1.281..  Test Loss: 1.212.. \n",
      "Epoch: 21/100..  Training Loss: 1.271..  Test Loss: 1.206.. \n",
      "Epoch: 22/100..  Training Loss: 1.258..  Test Loss: 1.180.. \n",
      "Epoch: 23/100..  Training Loss: 1.247..  Test Loss: 1.171.. \n",
      "Epoch: 24/100..  Training Loss: 1.238..  Test Loss: 1.168.. \n",
      "Epoch: 25/100..  Training Loss: 1.221..  Test Loss: 1.160.. \n",
      "Epoch: 26/100..  Training Loss: 1.217..  Test Loss: 1.147.. \n",
      "Epoch: 27/100..  Training Loss: 1.203..  Test Loss: 1.133.. \n",
      "Epoch: 28/100..  Training Loss: 1.191..  Test Loss: 1.181.. \n",
      "Epoch: 29/100..  Training Loss: 1.184..  Test Loss: 1.152.. \n",
      "Epoch: 30/100..  Training Loss: 1.177..  Test Loss: 1.117.. \n",
      "Epoch: 31/100..  Training Loss: 1.167..  Test Loss: 1.128.. \n",
      "Epoch: 32/100..  Training Loss: 1.162..  Test Loss: 1.111.. \n",
      "Epoch: 33/100..  Training Loss: 1.152..  Test Loss: 1.114.. \n",
      "Epoch: 34/100..  Training Loss: 1.146..  Test Loss: 1.087.. \n",
      "Epoch: 35/100..  Training Loss: 1.138..  Test Loss: 1.090.. \n",
      "Epoch: 36/100..  Training Loss: 1.136..  Test Loss: 1.081.. \n",
      "Epoch: 37/100..  Training Loss: 1.129..  Test Loss: 1.097.. \n",
      "Epoch: 38/100..  Training Loss: 1.120..  Test Loss: 1.068.. \n",
      "Epoch: 39/100..  Training Loss: 1.115..  Test Loss: 1.056.. \n",
      "Epoch: 40/100..  Training Loss: 1.106..  Test Loss: 1.046.. \n",
      "Epoch: 41/100..  Training Loss: 1.103..  Test Loss: 1.057.. \n",
      "Epoch: 42/100..  Training Loss: 1.092..  Test Loss: 1.039.. \n",
      "Epoch: 43/100..  Training Loss: 1.088..  Test Loss: 1.042.. \n",
      "Epoch: 44/100..  Training Loss: 1.085..  Test Loss: 1.036.. \n",
      "Epoch: 45/100..  Training Loss: 1.074..  Test Loss: 1.030.. \n",
      "Epoch: 46/100..  Training Loss: 1.073..  Test Loss: 1.016.. \n",
      "Epoch: 47/100..  Training Loss: 1.067..  Test Loss: 1.026.. \n",
      "Epoch: 48/100..  Training Loss: 1.060..  Test Loss: 1.021.. \n",
      "Epoch: 49/100..  Training Loss: 1.055..  Test Loss: 1.023.. \n",
      "Epoch: 50/100..  Training Loss: 1.050..  Test Loss: 1.018.. \n",
      "Epoch: 51/100..  Training Loss: 1.051..  Test Loss: 1.011.. \n",
      "Epoch: 52/100..  Training Loss: 1.038..  Test Loss: 1.003.. \n",
      "Epoch: 53/100..  Training Loss: 1.038..  Test Loss: 1.003.. \n",
      "Epoch: 54/100..  Training Loss: 1.031..  Test Loss: 1.001.. \n",
      "Epoch: 55/100..  Training Loss: 1.026..  Test Loss: 1.018.. \n",
      "Epoch: 56/100..  Training Loss: 1.025..  Test Loss: 0.992.. \n",
      "Epoch: 57/100..  Training Loss: 1.020..  Test Loss: 0.970.. \n",
      "Epoch: 58/100..  Training Loss: 1.016..  Test Loss: 0.976.. \n",
      "Epoch: 59/100..  Training Loss: 1.015..  Test Loss: 0.990.. \n",
      "Epoch: 60/100..  Training Loss: 1.006..  Test Loss: 0.986.. \n",
      "Epoch: 61/100..  Training Loss: 1.007..  Test Loss: 0.979.. \n",
      "Epoch: 62/100..  Training Loss: 1.005..  Test Loss: 0.977.. \n",
      "Epoch: 63/100..  Training Loss: 0.999..  Test Loss: 0.980.. \n",
      "Epoch: 64/100..  Training Loss: 0.996..  Test Loss: 0.961.. \n",
      "Epoch: 65/100..  Training Loss: 0.989..  Test Loss: 0.996.. \n",
      "Epoch: 66/100..  Training Loss: 0.994..  Test Loss: 0.997.. \n",
      "Epoch: 67/100..  Training Loss: 0.988..  Test Loss: 0.976.. \n",
      "Epoch: 68/100..  Training Loss: 0.984..  Test Loss: 0.981.. \n",
      "Epoch: 69/100..  Training Loss: 0.977..  Test Loss: 0.972.. \n",
      "Epoch: 70/100..  Training Loss: 0.981..  Test Loss: 0.943.. \n",
      "Epoch: 71/100..  Training Loss: 0.979..  Test Loss: 0.977.. \n",
      "Epoch: 72/100..  Training Loss: 0.976..  Test Loss: 0.958.. \n",
      "Epoch: 73/100..  Training Loss: 0.968..  Test Loss: 0.949.. \n",
      "Epoch: 74/100..  Training Loss: 0.969..  Test Loss: 0.964.. \n",
      "Epoch: 75/100..  Training Loss: 0.968..  Test Loss: 0.976.. \n",
      "Epoch: 76/100..  Training Loss: 0.965..  Test Loss: 0.959.. \n",
      "Epoch: 77/100..  Training Loss: 0.964..  Test Loss: 0.950.. \n",
      "Epoch: 78/100..  Training Loss: 0.963..  Test Loss: 0.940.. \n",
      "Epoch: 79/100..  Training Loss: 0.960..  Test Loss: 0.952.. \n",
      "Epoch: 80/100..  Training Loss: 0.949..  Test Loss: 0.965.. \n",
      "Epoch: 81/100..  Training Loss: 0.947..  Test Loss: 0.933.. \n",
      "Epoch: 82/100..  Training Loss: 0.953..  Test Loss: 0.958.. \n",
      "Epoch: 83/100..  Training Loss: 0.944..  Test Loss: 0.922.. \n",
      "Epoch: 84/100..  Training Loss: 0.946..  Test Loss: 0.937.. \n",
      "Epoch: 85/100..  Training Loss: 0.945..  Test Loss: 0.928.. \n",
      "Epoch: 86/100..  Training Loss: 0.943..  Test Loss: 0.957.. \n",
      "Epoch: 87/100..  Training Loss: 0.937..  Test Loss: 0.927.. \n",
      "Epoch: 88/100..  Training Loss: 0.934..  Test Loss: 0.936.. \n",
      "Epoch: 89/100..  Training Loss: 0.937..  Test Loss: 0.961.. \n",
      "Epoch: 90/100..  Training Loss: 0.928..  Test Loss: 0.935.. \n",
      "Epoch: 91/100..  Training Loss: 0.931..  Test Loss: 0.932.. \n",
      "Epoch: 92/100..  Training Loss: 0.930..  Test Loss: 0.976.. \n",
      "Epoch: 93/100..  Training Loss: 0.927..  Test Loss: 0.964.. \n",
      "Epoch: 94/100..  Training Loss: 0.931..  Test Loss: 0.948.. \n",
      "Epoch: 95/100..  Training Loss: 0.929..  Test Loss: 0.963.. \n",
      "Epoch: 96/100..  Training Loss: 0.926..  Test Loss: 0.923.. \n",
      "Epoch: 97/100..  Training Loss: 0.922..  Test Loss: 0.937.. \n",
      "Epoch: 98/100..  Training Loss: 0.915..  Test Loss: 0.926.. \n",
      "Epoch: 99/100..  Training Loss: 0.911..  Test Loss: 0.924.. \n",
      "Epoch: 100/100..  Training Loss: 0.918..  Test Loss: 0.930.. \n",
      "Finished Training\n"
     ]
    }
   ],
   "source": [
    "# Train the model\n",
    "epochs = 100\n",
    "\n",
    "train_losses, test_losses = [], []\n",
    "for e in range(epochs):\n",
    "    running_loss = 0\n",
    "    for images, labels in dataloaders['train']:\n",
    "        \n",
    "        optimizer.zero_grad()\n",
    "        \n",
    "        log_ps = model(images)\n",
    "        loss = criterion(log_ps, labels)\n",
    "        loss.backward()\n",
    "        optimizer.step()\n",
    "        \n",
    "        running_loss += loss.item()\n",
    "        \n",
    "    else:\n",
    "        test_loss = 0\n",
    "        \n",
    "        # Turn off gradients for validation, saves memory and computations\n",
    "        with torch.no_grad():\n",
    "            for images, labels in dataloaders['test']:\n",
    "                log_ps = model(images)\n",
    "                test_loss += criterion(log_ps, labels)\n",
    "\n",
    "                \n",
    "        train_losses.append(running_loss/len(dataloaders['train']))\n",
    "        test_losses.append(test_loss/len(dataloaders['test']))\n",
    "\n",
    "        print(\"Epoch: {}/{}.. \".format(e+1, epochs),\n",
    "              \"Training Loss: {:.3f}.. \".format(running_loss/len(dataloaders['train'])),\n",
    "              \"Test Loss: {:.3f}.. \".format(test_loss/len(dataloaders['test'])))\n",
    "\n",
    "print('Finished Training')"
   ]
  },
  {
   "cell_type": "markdown",
   "metadata": {},
   "source": [
    "Plot the training loss (and validation loss/accuracy, if recorded)."
   ]
  },
  {
   "cell_type": "code",
   "execution_count": 16,
   "metadata": {},
   "outputs": [
    {
     "data": {
      "text/plain": [
       "<matplotlib.legend.Legend at 0x1a655cacfd0>"
      ]
     },
     "execution_count": 16,
     "metadata": {},
     "output_type": "execute_result"
    },
    {
     "data": {
      "image/png": "[encoded data removed]",
      "text/plain": [
       "<Figure size 432x288 with 1 Axes>"
      ]
     },
     "metadata": {
      "needs_background": "light"
     },
     "output_type": "display_data"
    }
   ],
   "source": [
    "plt.plot(train_losses, label='Training loss')\n",
    "plt.plot(test_losses, label='Validation loss')\n",
    "plt.legend(frameon=False)"
   ]
  },
  {
   "cell_type": "markdown",
   "metadata": {},
   "source": [
    "## Testing your model\n",
    "Using the previously created `DataLoader` for the test set, compute the percentage of correct predictions using the highest probability prediction. \n",
    "\n",
    "If your accuracy is over 70%, great work! \n",
    "This is a hard task to exceed 70% on.\n",
    "\n",
    "If your accuracy is under 45%, you'll need to make improvements.\n",
    "Go back and check your model architecture, loss function, and optimizer to make sure they're appropriate for an image classification task."
   ]
  },
  {
   "cell_type": "code",
   "execution_count": 17,
   "metadata": {},
   "outputs": [
    {
     "name": "stdout",
     "output_type": "stream",
     "text": [
      "Accuracy of the network on the test images: 72 %\n"
     ]
    }
   ],
   "source": [
    "# refereced from https://pytorch.org/tutorials/beginner/blitz/cifar10_tutorial.html\n",
    "correct = 0\n",
    "total = 0\n",
    "\n",
    "\n",
    "# Turn off gradients for validation, saves memory and computations\n",
    "with torch.no_grad():\n",
    "    model.eval()\n",
    "    for data in dataloaders['test']:\n",
    "        images, labels = data\n",
    "        # calculate outputs by running images through the network\n",
    "        outputs = model(images)\n",
    "        # the class with the highest energy is what we choose as prediction\n",
    "        _, predicted = torch.max(outputs.data, 1)\n",
    "        total += labels.size(0)\n",
    "        correct += (predicted == labels).sum().item()\n",
    "\n",
    "print('Accuracy of the network on the test images: %d %%' % (\n",
    "    100 * (correct / total)))"
   ]
  },
  {
   "cell_type": "markdown",
   "metadata": {},
   "source": [
    "## Saving your model\n",
    "Using `torch.save`, save your model for future loading."
   ]
  },
  {
   "cell_type": "code",
   "execution_count": 19,
   "metadata": {},
   "outputs": [],
   "source": [
    "torch.save(model.state_dict(), './cifar_neural_net.pth')"
   ]
  },
  {
   "cell_type": "markdown",
   "metadata": {},
   "source": [
    "## Make a Recommendation\n",
    "\n",
    "Based on your evaluation, what is your recommendation on whether to build or buy? Explain your reasoning below."
   ]
  },
  {
   "cell_type": "markdown",
   "metadata": {},
   "source": [
    "The neural network developed here is very simple and it gets **72%** accuracy on the CIFAR-10 data\n",
    "while the proposed paid solution has a **70%** accuracy.\n",
    "\n",
    "Our own model can be further be improved as the images on the CIFAR-10 are small (32x32) and we can train our model in a reasonable ammount of time to achieve even better results than the paid solution.\n",
    "\n",
    "Based on the above observations i would reccomend to **build our own solution**."
   ]
  },
  {
   "cell_type": "code",
   "execution_count": null,
   "metadata": {},
   "outputs": [],
   "source": []
  }
 ],
 "metadata": {
  "kernelspec": {
   "display_name": "Python 3 (ipykernel)",
   "language": "python",
   "name": "python3"
  },
  "language_info": {
   "codemirror_mode": {
    "name": "ipython",
    "version": 3
   },
   "file_extension": ".py",
   "mimetype": "text/x-python",
   "name": "python",
   "nbconvert_exporter": "python",
   "pygments_lexer": "ipython3",
   "version": "3.9.7"
  }
 },
 "nbformat": 4,
 "nbformat_minor": 4
}
