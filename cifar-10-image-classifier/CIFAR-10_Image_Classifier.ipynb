{
 "cells": [
  {
   "cell_type": "markdown",
   "metadata": {},
   "source": [
    "# Introduction\n",
    "\n",
    "In this project, you will build a neural network of your own design to evaluate the CIFAR-10 dataset.\n",
    "Our target accuracy is 70%, but any accuracy over 50% is a great start.\n",
    "Some of the benchmark results on CIFAR-10 include:\n",
    "\n",
    "78.9% Accuracy | [Deep Belief Networks; Krizhevsky, 2010](https://www.cs.toronto.edu/~kriz/conv-cifar10-aug2010.pdf)\n",
    "\n",
    "90.6% Accuracy | [Maxout Networks; Goodfellow et al., 2013](https://arxiv.org/pdf/1302.4389.pdf)\n",
    "\n",
    "96.0% Accuracy | [Wide Residual Networks; Zagoruyko et al., 2016](https://arxiv.org/pdf/1605.07146.pdf)\n",
    "\n",
    "99.0% Accuracy | [GPipe; Huang et al., 2018](https://arxiv.org/pdf/1811.06965.pdf)\n",
    "\n",
    "98.5% Accuracy | [Rethinking Recurrent Neural Networks and other Improvements for ImageClassification; Nguyen et al., 2020](https://arxiv.org/pdf/2007.15161.pdf)\n",
    "\n",
    "Research with this dataset is ongoing. Notably, many of these networks are quite large and quite expensive to train. \n",
    "\n",
    "## Imports"
   ]
  },
  {
   "cell_type": "code",
   "execution_count": 22,
   "metadata": {},
   "outputs": [],
   "source": [
    "## This cell contains the essential imports you will need – DO NOT CHANGE THE CONTENTS! ##\n",
    "import torch\n",
    "import torch.nn as nn\n",
    "import torch.nn.functional as F\n",
    "import torch.optim as optim\n",
    "import torchvision\n",
    "import torchvision.transforms as transforms\n",
    "import matplotlib.pyplot as plt\n",
    "import numpy as np"
   ]
  },
  {
   "cell_type": "markdown",
   "metadata": {},
   "source": [
    "## Load the Dataset\n",
    "\n",
    "Specify your transforms as a list first.\n",
    "The transforms module is already loaded as `transforms`.\n",
    "\n",
    "CIFAR-10 is fortunately included in the torchvision module.\n",
    "Then, you can create your dataset using the `CIFAR10` object from `torchvision.datasets` ([the documentation is available here](https://pytorch.org/docs/stable/torchvision/datasets.html#cifar)).\n",
    "Make sure to specify `download=True`! \n",
    "\n",
    "Once your dataset is created, you'll also need to define a `DataLoader` from the `torch.utils.data` module for both the train and the test set."
   ]
  },
  {
   "cell_type": "markdown",
   "metadata": {},
   "source": [
    "## Explore the Dataset\n",
    "Using matplotlib, numpy, and torch, explore the dimensions of your data.\n",
    "\n",
    "You can view images using the `show5` function defined below – it takes a data loader as an argument.\n",
    "Remember that normalized images will look really weird to you! You may want to try changing your transforms to view images.\n",
    "Typically using no transforms other than `toTensor()` works well for viewing – but not as well for training your network.\n",
    "If `show5` doesn't work, go back and check your code for creating your data loaders and your training/test sets."
   ]
  },
  {
   "cell_type": "code",
   "execution_count": 23,
   "metadata": {},
   "outputs": [],
   "source": [
    "def show5(img_loader):\n",
    "    dataiter = iter(img_loader)\n",
    "    \n",
    "    batch = next(dataiter)\n",
    "    labels = batch[1][0:5]\n",
    "    images = batch[0][0:5]\n",
    "    for i in range(5):\n",
    "        print(classes[labels[i]])\n",
    "    \n",
    "        image = images[i].numpy()\n",
    "        plt.imshow(image.T)\n",
    "        plt.show()"
   ]
  },
  {
   "cell_type": "code",
   "execution_count": 43,
   "metadata": {},
   "outputs": [
    {
     "name": "stdout",
     "output_type": "stream",
     "text": [
      "Files already downloaded and verified\n",
      "Files already downloaded and verified\n"
     ]
    }
   ],
   "source": [
    "# Set batch size\n",
    "batch_size = 16\n",
    "\n",
    "# Define transforms\n",
    "data_transforms = {\n",
    "        'train': transforms.Compose([transforms.RandomRotation(30),\n",
    "                                     transforms.RandomHorizontalFlip(),\n",
    "                                     transforms.RandomGrayscale(p=0.15),\n",
    "                                     transforms.ToTensor(),\n",
    "                                     transforms.Normalize((0.5, 0.5, 0.5), (0.5, 0.5, 0.5))]),\n",
    "        'test': transforms.Compose(\n",
    "                            [transforms.ToTensor(),\n",
    "                             transforms.Normalize((0.5, 0.5, 0.5), (0.5, 0.5, 0.5))]),\n",
    "    }\n",
    "\n",
    "trainset = torchvision.datasets.CIFAR10(root='./data', train=True,\n",
    "                                        download=True, transform=data_transforms['train'])\n",
    "\n",
    "testdata = torchvision.datasets.CIFAR10(root='./data', train=False,\n",
    "                                       download=True, transform=data_transforms['test'])\n",
    "\n",
    "validation_set, testing_set = torch.utils.data.random_split(testdata, (2000, 8000), generator=torch.Generator().manual_seed(42))\n",
    "\n",
    "\n",
    "dataloaders = {\n",
    "        'train': torch.utils.data.DataLoader(trainset, batch_size=batch_size,\n",
    "                                          shuffle=True, num_workers=2),\n",
    "        'test': torch.utils.data.DataLoader(testing_set, batch_size=batch_size,\n",
    "                                         shuffle=False, num_workers=2),\n",
    "        'validation': torch.utils.data.DataLoader(validation_set, batch_size=batch_size,\n",
    "                                         shuffle=False, num_workers=2),\n",
    "    }\n",
    "\n",
    "\n",
    "# The 10 classes in the dataset\n",
    "classes = ('plane', 'car', 'bird', 'cat', 'deer', 'dog', 'frog', 'horse', 'ship', 'truck')"
   ]
  },
  {
   "cell_type": "code",
   "execution_count": 44,
   "metadata": {},
   "outputs": [
    {
     "name": "stderr",
     "output_type": "stream",
     "text": [
      "Clipping input data to the valid range for imshow with RGB data ([0..1] for floats or [0..255] for integers).\n"
     ]
    },
    {
     "name": "stdout",
     "output_type": "stream",
     "text": [
      "bird\n"
     ]
    },
    {
     "data": {
      "image/png": "[encoded data removed]",
      "text/plain": [
       "<Figure size 432x288 with 1 Axes>"
      ]
     },
     "metadata": {
      "needs_background": "light"
     },
     "output_type": "display_data"
    },
    {
     "name": "stderr",
     "output_type": "stream",
     "text": [
      "Clipping input data to the valid range for imshow with RGB data ([0..1] for floats or [0..255] for integers).\n"
     ]
    },
    {
     "name": "stdout",
     "output_type": "stream",
     "text": [
      "cat\n"
     ]
    },
    {
     "data": {
      "image/png": "[encoded data removed]",
      "text/plain": [
       "<Figure size 432x288 with 1 Axes>"
      ]
     },
     "metadata": {
      "needs_background": "light"
     },
     "output_type": "display_data"
    },
    {
     "name": "stdout",
     "output_type": "stream",
     "text": [
      "deer\n"
     ]
    },
    {
     "name": "stderr",
     "output_type": "stream",
     "text": [
      "Clipping input data to the valid range for imshow with RGB data ([0..1] for floats or [0..255] for integers).\n"
     ]
    },
    {
     "data": {
      "image/png": "[encoded data removed]",
      "text/plain": [
       "<Figure size 432x288 with 1 Axes>"
      ]
     },
     "metadata": {
      "needs_background": "light"
     },
     "output_type": "display_data"
    },
    {
     "name": "stderr",
     "output_type": "stream",
     "text": [
      "Clipping input data to the valid range for imshow with RGB data ([0..1] for floats or [0..255] for integers).\n"
     ]
    },
    {
     "name": "stdout",
     "output_type": "stream",
     "text": [
      "car\n"
     ]
    },
    {
     "data": {
      "image/png": "[encoded data removed]",
      "text/plain": [
       "<Figure size 432x288 with 1 Axes>"
      ]
     },
     "metadata": {
      "needs_background": "light"
     },
     "output_type": "display_data"
    },
    {
     "name": "stderr",
     "output_type": "stream",
     "text": [
      "Clipping input data to the valid range for imshow with RGB data ([0..1] for floats or [0..255] for integers).\n"
     ]
    },
    {
     "name": "stdout",
     "output_type": "stream",
     "text": [
      "deer\n"
     ]
    },
    {
     "data": {
      "image/png": "[encoded data removed]",
      "text/plain": [
       "<Figure size 432x288 with 1 Axes>"
      ]
     },
     "metadata": {
      "needs_background": "light"
     },
     "output_type": "display_data"
    }
   ],
   "source": [
    "# Explore data\n",
    "show5(dataloaders['test'])"
   ]
  },
  {
   "cell_type": "markdown",
   "metadata": {},
   "source": [
    "## Build your Neural Network\n",
    "Using the layers in `torch.nn` (which has been imported as `nn`) and the `torch.nn.functional` module (imported as `F`), construct a neural network based on the parameters of the dataset. \n",
    "Feel free to construct a model of any architecture – feedforward, convolutional, or even something more advanced!"
   ]
  },
  {
   "cell_type": "code",
   "execution_count": 45,
   "metadata": {},
   "outputs": [],
   "source": [
    "class NeuralNetwork(nn.Module):\n",
    "    def __init__(self):\n",
    "        super().__init__()\n",
    "        self.pool = nn.MaxPool2d(2, 2)\n",
    "        self.dropout = nn.Dropout(0.25)\n",
    "        \n",
    "        self.conv1 = nn.Conv2d(3, 6, 5)\n",
    "        self.conv1_b = nn.Conv2d(6, 12, 5)\n",
    "        \n",
    "        self.conv2 = nn.Conv2d(12, 32, 5)\n",
    "        \n",
    "        self.fc1 = nn.Linear(512, 256)\n",
    "        self.fc2 = nn.Linear(256, 128)\n",
    "        self.fc3 = nn.Linear(128, 64)\n",
    "        self.fc4 = nn.Linear(64, 10)\n",
    "\n",
    "    def forward(self, x):\n",
    "        x = F.relu(self.conv1(x))\n",
    "        x = F.relu(self.conv1_b(x))\n",
    "        x = self.pool(x)\n",
    "        \n",
    "        x = F.relu(self.conv2(x))\n",
    "        x = self.pool(x)\n",
    "        x = self.dropout(x)\n",
    "        \n",
    "        x = torch.flatten(x, 1)\n",
    "        \n",
    "        x = F.relu(self.fc1(x))\n",
    "        x = self.dropout(x)\n",
    "        x = F.relu(self.fc2(x))\n",
    "        x = F.relu(self.fc3(x))\n",
    "        x = F.log_softmax(self.fc4(x), dim=1)\n",
    "        return x"
   ]
  },
  {
   "cell_type": "markdown",
   "metadata": {},
   "source": [
    "Specify a loss function and an optimizer, and instantiate the model.\n",
    "\n",
    "If you use a less common loss function, please note why you chose that loss function in a comment."
   ]
  },
  {
   "cell_type": "code",
   "execution_count": 46,
   "metadata": {},
   "outputs": [],
   "source": [
    "model = NeuralNetwork()\n",
    "criterion = nn.NLLLoss()\n",
    "optimizer = optim.SGD(model.parameters(), lr=0.0008, momentum=0.8)"
   ]
  },
  {
   "cell_type": "markdown",
   "metadata": {},
   "source": [
    "## Running your Neural Network\n",
    "Use whatever method you like to train your neural network, and ensure you record the average loss at each epoch. \n",
    "Don't forget to use `torch.device()` and the `.to()` method for both your model and your data if you are using GPU!\n",
    "\n",
    "If you want to print your loss during each epoch, you can use the `enumerate` function and print the loss after a set number of batches. 250 batches works well for most people!"
   ]
  },
  {
   "cell_type": "code",
   "execution_count": 50,
   "metadata": {},
   "outputs": [
    {
     "name": "stdout",
     "output_type": "stream",
     "text": [
      "Epoch: 1/100..  Training Loss: 2.259..  Validation Loss: 2.113.. \n",
      "Epoch: 2/100..  Training Loss: 2.058..  Validation Loss: 1.915.. \n",
      "Epoch: 3/100..  Training Loss: 1.883..  Validation Loss: 1.758.. \n",
      "Epoch: 4/100..  Training Loss: 1.782..  Validation Loss: 1.688.. \n",
      "Epoch: 5/100..  Training Loss: 1.718..  Validation Loss: 1.606.. \n",
      "Epoch: 6/100..  Training Loss: 1.667..  Validation Loss: 1.574.. \n",
      "Epoch: 7/100..  Training Loss: 1.623..  Validation Loss: 1.504.. \n",
      "Epoch: 8/100..  Training Loss: 1.582..  Validation Loss: 1.496.. \n",
      "Epoch: 9/100..  Training Loss: 1.544..  Validation Loss: 1.420.. \n",
      "Epoch: 10/100..  Training Loss: 1.509..  Validation Loss: 1.396.. \n",
      "Epoch: 11/100..  Training Loss: 1.480..  Validation Loss: 1.388.. \n",
      "Epoch: 12/100..  Training Loss: 1.450..  Validation Loss: 1.357.. \n",
      "Epoch: 13/100..  Training Loss: 1.430..  Validation Loss: 1.332.. \n",
      "Epoch: 14/100..  Training Loss: 1.405..  Validation Loss: 1.321.. \n",
      "Epoch: 15/100..  Training Loss: 1.385..  Validation Loss: 1.277.. \n",
      "Epoch: 16/100..  Training Loss: 1.363..  Validation Loss: 1.259.. \n",
      "Epoch: 17/100..  Training Loss: 1.343..  Validation Loss: 1.251.. \n",
      "Epoch: 18/100..  Training Loss: 1.334..  Validation Loss: 1.233.. \n",
      "Epoch: 19/100..  Training Loss: 1.320..  Validation Loss: 1.235.. \n",
      "Epoch: 20/100..  Training Loss: 1.306..  Validation Loss: 1.204.. \n",
      "Epoch: 21/100..  Training Loss: 1.290..  Validation Loss: 1.181.. \n",
      "Epoch: 22/100..  Training Loss: 1.278..  Validation Loss: 1.188.. \n",
      "Epoch: 23/100..  Training Loss: 1.266..  Validation Loss: 1.181.. \n",
      "Epoch: 24/100..  Training Loss: 1.262..  Validation Loss: 1.169.. \n",
      "Epoch: 25/100..  Training Loss: 1.242..  Validation Loss: 1.168.. \n",
      "Epoch: 26/100..  Training Loss: 1.232..  Validation Loss: 1.158.. \n",
      "Epoch: 27/100..  Training Loss: 1.221..  Validation Loss: 1.164.. \n",
      "Epoch: 28/100..  Training Loss: 1.214..  Validation Loss: 1.130.. \n",
      "Epoch: 29/100..  Training Loss: 1.204..  Validation Loss: 1.114.. \n",
      "Epoch: 30/100..  Training Loss: 1.196..  Validation Loss: 1.116.. \n",
      "Epoch: 31/100..  Training Loss: 1.192..  Validation Loss: 1.084.. \n",
      "Epoch: 32/100..  Training Loss: 1.184..  Validation Loss: 1.086.. \n",
      "Epoch: 33/100..  Training Loss: 1.173..  Validation Loss: 1.091.. \n",
      "Epoch: 34/100..  Training Loss: 1.163..  Validation Loss: 1.060.. \n",
      "Epoch: 35/100..  Training Loss: 1.159..  Validation Loss: 1.078.. \n",
      "Epoch: 36/100..  Training Loss: 1.152..  Validation Loss: 1.101.. \n",
      "Epoch: 37/100..  Training Loss: 1.147..  Validation Loss: 1.062.. \n",
      "Epoch: 38/100..  Training Loss: 1.140..  Validation Loss: 1.047.. \n",
      "Epoch: 39/100..  Training Loss: 1.129..  Validation Loss: 1.069.. \n",
      "Epoch: 40/100..  Training Loss: 1.123..  Validation Loss: 1.054.. \n",
      "Epoch: 41/100..  Training Loss: 1.122..  Validation Loss: 1.040.. \n",
      "Epoch: 42/100..  Training Loss: 1.116..  Validation Loss: 1.049.. \n",
      "Epoch: 43/100..  Training Loss: 1.111..  Validation Loss: 1.036.. \n",
      "Epoch: 44/100..  Training Loss: 1.108..  Validation Loss: 1.048.. \n",
      "Epoch: 45/100..  Training Loss: 1.102..  Validation Loss: 1.024.. \n",
      "Epoch: 46/100..  Training Loss: 1.090..  Validation Loss: 1.039.. \n",
      "Epoch: 47/100..  Training Loss: 1.093..  Validation Loss: 1.026.. \n",
      "Epoch: 48/100..  Training Loss: 1.086..  Validation Loss: 1.003.. \n",
      "Epoch: 49/100..  Training Loss: 1.078..  Validation Loss: 1.031.. \n",
      "Epoch: 50/100..  Training Loss: 1.077..  Validation Loss: 1.010.. \n",
      "Epoch: 51/100..  Training Loss: 1.075..  Validation Loss: 1.019.. \n",
      "Epoch: 52/100..  Training Loss: 1.068..  Validation Loss: 1.008.. \n",
      "Epoch: 53/100..  Training Loss: 1.070..  Validation Loss: 1.010.. \n",
      "Epoch: 54/100..  Training Loss: 1.056..  Validation Loss: 0.997.. \n",
      "Epoch: 55/100..  Training Loss: 1.057..  Validation Loss: 0.975.. \n",
      "Epoch: 56/100..  Training Loss: 1.052..  Validation Loss: 1.002.. \n",
      "Epoch: 57/100..  Training Loss: 1.041..  Validation Loss: 1.007.. \n",
      "Epoch: 58/100..  Training Loss: 1.045..  Validation Loss: 0.999.. \n",
      "Epoch: 59/100..  Training Loss: 1.042..  Validation Loss: 0.986.. \n",
      "Epoch: 60/100..  Training Loss: 1.040..  Validation Loss: 0.944.. \n",
      "Epoch: 61/100..  Training Loss: 1.039..  Validation Loss: 0.993.. \n",
      "Epoch: 62/100..  Training Loss: 1.030..  Validation Loss: 0.978.. \n",
      "Epoch: 63/100..  Training Loss: 1.030..  Validation Loss: 1.006.. \n",
      "Epoch: 64/100..  Training Loss: 1.029..  Validation Loss: 0.963.. \n",
      "Epoch: 65/100..  Training Loss: 1.025..  Validation Loss: 0.995.. \n",
      "Epoch: 66/100..  Training Loss: 1.028..  Validation Loss: 0.994.. \n",
      "Epoch: 67/100..  Training Loss: 1.018..  Validation Loss: 0.974.. \n",
      "Epoch: 68/100..  Training Loss: 1.018..  Validation Loss: 0.944.. \n",
      "Epoch: 69/100..  Training Loss: 1.014..  Validation Loss: 0.946.. \n",
      "Epoch: 70/100..  Training Loss: 1.013..  Validation Loss: 0.951.. \n",
      "Epoch: 71/100..  Training Loss: 1.013..  Validation Loss: 0.953.. \n",
      "Epoch: 72/100..  Training Loss: 1.007..  Validation Loss: 0.974.. \n",
      "Epoch: 73/100..  Training Loss: 1.005..  Validation Loss: 0.958.. \n",
      "Epoch: 74/100..  Training Loss: 1.005..  Validation Loss: 0.939.. \n",
      "Epoch: 75/100..  Training Loss: 1.004..  Validation Loss: 0.937.. \n",
      "Epoch: 76/100..  Training Loss: 0.995..  Validation Loss: 0.943.. \n",
      "Epoch: 77/100..  Training Loss: 0.999..  Validation Loss: 0.954.. \n",
      "Epoch: 78/100..  Training Loss: 0.988..  Validation Loss: 0.935.. \n",
      "Epoch: 79/100..  Training Loss: 0.989..  Validation Loss: 0.984.. \n",
      "Epoch: 80/100..  Training Loss: 0.988..  Validation Loss: 0.960.. \n",
      "Epoch: 81/100..  Training Loss: 0.986..  Validation Loss: 0.911.. \n",
      "Epoch: 82/100..  Training Loss: 0.986..  Validation Loss: 0.952.. \n",
      "Epoch: 83/100..  Training Loss: 0.986..  Validation Loss: 0.962.. \n",
      "Epoch: 84/100..  Training Loss: 0.980..  Validation Loss: 0.955.. \n",
      "Epoch: 85/100..  Training Loss: 0.981..  Validation Loss: 0.981.. \n",
      "Epoch: 86/100..  Training Loss: 0.978..  Validation Loss: 0.927.. \n",
      "Epoch: 87/100..  Training Loss: 0.977..  Validation Loss: 0.965.. \n",
      "Epoch: 88/100..  Training Loss: 0.967..  Validation Loss: 0.925.. \n",
      "Epoch: 89/100..  Training Loss: 0.973..  Validation Loss: 0.948.. \n",
      "Epoch: 90/100..  Training Loss: 0.971..  Validation Loss: 0.949.. \n",
      "Epoch: 91/100..  Training Loss: 0.972..  Validation Loss: 0.930.. \n",
      "Epoch: 92/100..  Training Loss: 0.965..  Validation Loss: 0.921.. \n",
      "Epoch: 93/100..  Training Loss: 0.962..  Validation Loss: 0.934.. \n",
      "Epoch: 94/100..  Training Loss: 0.959..  Validation Loss: 0.919.. \n",
      "Epoch: 95/100..  Training Loss: 0.969..  Validation Loss: 0.929.. \n",
      "Epoch: 96/100..  Training Loss: 0.961..  Validation Loss: 0.937.. \n",
      "Epoch: 97/100..  Training Loss: 0.955..  Validation Loss: 0.908.. \n",
      "Epoch: 98/100..  Training Loss: 0.961..  Validation Loss: 0.928.. \n",
      "Epoch: 99/100..  Training Loss: 0.956..  Validation Loss: 0.945.. \n",
      "Epoch: 100/100..  Training Loss: 0.953..  Validation Loss: 0.941.. \n",
      "Finished Training\n"
     ]
    }
   ],
   "source": [
    "# Train the model\n",
    "epochs = 100\n",
    "\n",
    "train_losses, validation_losses = [], []\n",
    "for e in range(epochs):\n",
    "    running_loss = 0\n",
    "    for images, labels in dataloaders['train']:\n",
    "        \n",
    "        optimizer.zero_grad()\n",
    "        \n",
    "        log_ps = model(images)\n",
    "        loss = criterion(log_ps, labels)\n",
    "        loss.backward()\n",
    "        optimizer.step()\n",
    "        \n",
    "        running_loss += loss.item()\n",
    "        \n",
    "    else:\n",
    "        validation_loss = 0\n",
    "        \n",
    "        # Turn off gradients for validation, saves memory and computations\n",
    "        with torch.no_grad():\n",
    "            for images, labels in dataloaders['validation']:\n",
    "                log_ps = model(images)\n",
    "                validation_loss += criterion(log_ps, labels)\n",
    "\n",
    "                \n",
    "        train_losses.append(running_loss/len(dataloaders['train']))\n",
    "        validation_losses.append(validation_loss/len(dataloaders['test']))\n",
    "\n",
    "        print(\"Epoch: {}/{}.. \".format(e+1, epochs),\n",
    "              \"Training Loss: {:.3f}.. \".format(running_loss/len(dataloaders['train'])),\n",
    "              \"Validation Loss: {:.3f}.. \".format(validation_loss/len(dataloaders['validation'])))\n",
    "\n",
    "print('Finished Training')"
   ]
  },
  {
   "cell_type": "markdown",
   "metadata": {},
   "source": [
    "Plot the training loss (and validation loss/accuracy, if recorded)."
   ]
  },
  {
   "cell_type": "code",
   "execution_count": 51,
   "metadata": {},
   "outputs": [
    {
     "data": {
      "text/plain": [
       "<matplotlib.legend.Legend at 0x1703b92bfa0>"
      ]
     },
     "execution_count": 51,
     "metadata": {},
     "output_type": "execute_result"
    },
    {
     "data": {
      "image/png": "[encoded data removed]",
      "text/plain": [
       "<Figure size 432x288 with 1 Axes>"
      ]
     },
     "metadata": {
      "needs_background": "light"
     },
     "output_type": "display_data"
    }
   ],
   "source": [
    "plt.plot(train_losses, label='Training loss')\n",
    "plt.plot(validation_losses, label='Validation loss')\n",
    "plt.legend(frameon=False)"
   ]
  },
  {
   "cell_type": "markdown",
   "metadata": {},
   "source": [
    "## Testing your model\n",
    "Using the previously created `DataLoader` for the test set, compute the percentage of correct predictions using the highest probability prediction. \n",
    "\n",
    "If your accuracy is over 70%, great work! \n",
    "This is a hard task to exceed 70% on.\n",
    "\n",
    "If your accuracy is under 45%, you'll need to make improvements.\n",
    "Go back and check your model architecture, loss function, and optimizer to make sure they're appropriate for an image classification task."
   ]
  },
  {
   "cell_type": "code",
   "execution_count": 53,
   "metadata": {},
   "outputs": [
    {
     "name": "stdout",
     "output_type": "stream",
     "text": [
      "Accuracy of the network on the test images: 72 %\n"
     ]
    }
   ],
   "source": [
    "# refereced from https://pytorch.org/tutorials/beginner/blitz/cifar10_tutorial.html\n",
    "correct = 0\n",
    "total = 0\n",
    "\n",
    "\n",
    "# Turn off gradients for validation, saves memory and computations\n",
    "with torch.no_grad():\n",
    "    model.eval()\n",
    "    for data in dataloaders['test']:\n",
    "        images, labels = data\n",
    "        # calculate outputs by running images through the network\n",
    "        outputs = model(images)\n",
    "        # the class with the highest energy is what we choose as prediction\n",
    "        _, predicted = torch.max(outputs.data, 1)\n",
    "        total += labels.size(0)\n",
    "        correct += (predicted == labels).sum().item()\n",
    "\n",
    "print('Accuracy of the network on the test images: %d %%' % (\n",
    "    100 * (correct / total)))"
   ]
  },
  {
   "cell_type": "markdown",
   "metadata": {},
   "source": [
    "## Saving your model\n",
    "Using `torch.save`, save your model for future loading."
   ]
  },
  {
   "cell_type": "code",
   "execution_count": 54,
   "metadata": {},
   "outputs": [],
   "source": [
    "torch.save(model.state_dict(), './cifar_neural_net.pth')"
   ]
  },
  {
   "cell_type": "markdown",
   "metadata": {},
   "source": [
    "## Make a Recommendation\n",
    "\n",
    "Based on your evaluation, what is your recommendation on whether to build or buy? Explain your reasoning below."
   ]
  },
  {
   "cell_type": "markdown",
   "metadata": {},
   "source": [
    "The neural network developed here is very simple and it gets **72%** accuracy on the CIFAR-10 data\n",
    "while the proposed paid solution has a **70%** accuracy.\n",
    "\n",
    "Our own model can be further be improved as the images on the CIFAR-10 are small (32x32) and we can train our model in a reasonable amount of time to achieve even better results than the paid solution.\n",
    "\n",
    "Based on the above observations i would reccomend to **build our own solution**."
   ]
  },
  {
   "cell_type": "code",
   "execution_count": null,
   "metadata": {},
   "outputs": [],
   "source": []
  }
 ],
 "metadata": {
  "kernelspec": {
   "display_name": "Python 3 (ipykernel)",
   "language": "python",
   "name": "python3"
  },
  "language_info": {
   "codemirror_mode": {
    "name": "ipython",
    "version": 3
   },
   "file_extension": ".py",
   "mimetype": "text/x-python",
   "name": "python",
   "nbconvert_exporter": "python",
   "pygments_lexer": "ipython3",
   "version": "3.9.7"
  }
 },
 "nbformat": 4,
 "nbformat_minor": 4
}
